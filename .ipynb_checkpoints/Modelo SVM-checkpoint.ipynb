{
 "cells": [
  {
   "cell_type": "code",
   "execution_count": 1,
   "id": "5d7d9149",
   "metadata": {},
   "outputs": [],
   "source": [
    "from sklearn.svm import SVR\n",
    "import pandas as pd\n",
    "import numpy as np"
   ]
  },
  {
   "cell_type": "code",
   "execution_count": 2,
   "id": "04b7f43b",
   "metadata": {},
   "outputs": [
    {
     "name": "stdout",
     "output_type": "stream",
     "text": [
      "[[ 1  1  1 ...  1 34  1]\n",
      " [ 1  2  1 ...  1 34  1]\n",
      " [ 1  3  1 ...  1 34  1]\n",
      " ...\n",
      " [12  3  1 ...  1 28  1]\n",
      " [12  5  1 ...  1 28  1]\n",
      " [12  0  1 ...  1 28  1]]\n"
     ]
    }
   ],
   "source": [
    "# Cargamos los datos\n",
    "data = pd.read_csv('C:/Users/PAOLOac/Desktop/Latam - Desafio/datos1.csv')\n",
    "data = data.values\n",
    "print(data)"
   ]
  },
  {
   "cell_type": "code",
   "execution_count": 3,
   "id": "c3d1f17c",
   "metadata": {},
   "outputs": [],
   "source": [
    "# Separamos los datos en conjuntos de entrenamiento y prueba\n",
    "train_size = int(0.8 * len(data))\n",
    "train_data = data[:train_size]\n",
    "test_data = data[train_size:]\n"
   ]
  },
  {
   "cell_type": "code",
   "execution_count": 4,
   "id": "5ef21d23",
   "metadata": {},
   "outputs": [
    {
     "name": "stdout",
     "output_type": "stream",
     "text": [
      "[[ 1  1  1  6  1 34]\n",
      " [ 1  2  1  6  1 34]\n",
      " [ 1  3  1  6  1 34]\n",
      " ...\n",
      " [10  1  1 13  0  7]\n",
      " [10  2  1 13  0  7]\n",
      " [10  3  1 13  0  7]]\n",
      "[[1]\n",
      " [1]\n",
      " [1]\n",
      " ...\n",
      " [1]\n",
      " [1]\n",
      " [1]]\n"
     ]
    }
   ],
   "source": [
    "# Separamos los datos de entrenamiento y prueba en características y etiquetas\n",
    "train_features = train_data[:, :-1]\n",
    "train_labels = train_data[:, -1:]\n",
    "test_features = test_data[:, :-1]\n",
    "test_labels = test_data[:, -1:]\n",
    "print(train_features)\n",
    "print(train_labels)"
   ]
  },
  {
   "cell_type": "code",
   "execution_count": 5,
   "id": "4181e9c4",
   "metadata": {},
   "outputs": [],
   "source": [
    "# Creamos un modelo SVM con kernel radial (rbf)\n",
    "model = SVR(kernel= \"linear\")"
   ]
  },
  {
   "cell_type": "code",
   "execution_count": null,
   "id": "d981a0cb",
   "metadata": {},
   "outputs": [],
   "source": [
    "# Entrenamos el modelo con los datos de entrenamiento\n",
    "model.fit(train_features, train_labels.ravel())\n"
   ]
  },
  {
   "cell_type": "code",
   "execution_count": null,
   "id": "0d4dcb3c",
   "metadata": {},
   "outputs": [],
   "source": [
    "# Hacemos predicciones utilizando los datos de prueba\n",
    "predictions = model.predict(test_features)"
   ]
  },
  {
   "cell_type": "code",
   "execution_count": null,
   "id": "39e41057",
   "metadata": {},
   "outputs": [],
   "source": [
    "print(predictions)"
   ]
  },
  {
   "cell_type": "code",
   "execution_count": null,
   "id": "2974e579",
   "metadata": {},
   "outputs": [],
   "source": []
  }
 ],
 "metadata": {
  "kernelspec": {
   "display_name": "Python 3 (ipykernel)",
   "language": "python",
   "name": "python3"
  },
  "language_info": {
   "codemirror_mode": {
    "name": "ipython",
    "version": 3
   },
   "file_extension": ".py",
   "mimetype": "text/x-python",
   "name": "python",
   "nbconvert_exporter": "python",
   "pygments_lexer": "ipython3",
   "version": "3.10.5"
  }
 },
 "nbformat": 4,
 "nbformat_minor": 5
}
