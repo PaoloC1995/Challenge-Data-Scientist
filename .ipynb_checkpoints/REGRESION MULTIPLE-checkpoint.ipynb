{
 "cells": [
  {
   "cell_type": "code",
   "execution_count": 1,
   "id": "4094ae94",
   "metadata": {
    "scrolled": true
   },
   "outputs": [
    {
     "name": "stdout",
     "output_type": "stream",
     "text": [
      "[[ 1  1  1 ...  1 34  0]\n",
      " [ 1  2  1 ...  1 34  0]\n",
      " [ 1  3  1 ...  1 34  0]\n",
      " ...\n",
      " [12  3  1 ...  1 28  1]\n",
      " [12  5  1 ...  1 28  0]\n",
      " [12  0  1 ...  1 28  0]]\n",
      "1\n"
     ]
    }
   ],
   "source": [
    "import tensorflow as tf\n",
    "import pandas as pd\n",
    "import numpy as np\n",
    "\n",
    "# Cargamos los datos\n",
    "data = pd.read_csv('C:/Users/PAOLOac/Desktop/Latam - Desafio/datos2.csv')\n",
    "data = data.values\n",
    "print(data)\n",
    "hola = data[:1,0][0]\n",
    "print(hola)"
   ]
  },
  {
   "cell_type": "code",
   "execution_count": 2,
   "id": "7a2ffe7f",
   "metadata": {},
   "outputs": [],
   "source": [
    "# Separamos los datos en conjuntos de entrenamiento y prueba\n",
    "train_size = int(0.8 * len(data))\n",
    "train_data = data[:train_size]\n",
    "test_data = data[train_size:]"
   ]
  },
  {
   "cell_type": "code",
   "execution_count": 3,
   "id": "fc69e5d3",
   "metadata": {},
   "outputs": [
    {
     "name": "stdout",
     "output_type": "stream",
     "text": [
      "[[ 1  1  1  6  1 34]\n",
      " [ 1  2  1  6  1 34]\n",
      " [ 1  3  1  6  1 34]\n",
      " ...\n",
      " [10  1  1 13  0  7]\n",
      " [10  2  1 13  0  7]\n",
      " [10  3  1 13  0  7]]\n"
     ]
    }
   ],
   "source": [
    "# Separamos los datos de entrenamiento y prueba en características y etiquetas\n",
    "train_features = train_data[:, :-1]\n",
    "train_labels = train_data[:, -1:]\n",
    "test_features = test_data[:, :-1]\n",
    "test_labels = test_data[:, -1:]\n",
    "print (train_features)"
   ]
  },
  {
   "cell_type": "code",
   "execution_count": 4,
   "id": "d0d687c4",
   "metadata": {},
   "outputs": [
    {
     "name": "stdout",
     "output_type": "stream",
     "text": [
      "Epoch 1/50\n",
      "1706/1706 [==============================] - 2s 833us/step - loss: 0.2848\n",
      "Epoch 2/50\n",
      "1706/1706 [==============================] - 1s 818us/step - loss: 0.1500\n",
      "Epoch 3/50\n",
      "1706/1706 [==============================] - 1s 819us/step - loss: 0.1492\n",
      "Epoch 4/50\n",
      "1706/1706 [==============================] - 1s 821us/step - loss: 0.1471\n",
      "Epoch 5/50\n",
      "1706/1706 [==============================] - 1s 825us/step - loss: 0.1475\n",
      "Epoch 6/50\n",
      "1706/1706 [==============================] - 1s 814us/step - loss: 0.1460\n",
      "Epoch 7/50\n",
      "1706/1706 [==============================] - 1s 831us/step - loss: 0.1454\n",
      "Epoch 8/50\n",
      "1706/1706 [==============================] - 1s 812us/step - loss: 0.1441\n",
      "Epoch 9/50\n",
      "1706/1706 [==============================] - 1s 830us/step - loss: 0.1433\n",
      "Epoch 10/50\n",
      "1706/1706 [==============================] - 1s 827us/step - loss: 0.1421\n",
      "Epoch 11/50\n",
      "1706/1706 [==============================] - 1s 817us/step - loss: 0.1422\n",
      "Epoch 12/50\n",
      "1706/1706 [==============================] - 1s 825us/step - loss: 0.1411\n",
      "Epoch 13/50\n",
      "1706/1706 [==============================] - 1s 807us/step - loss: 0.1405\n",
      "Epoch 14/50\n",
      "1706/1706 [==============================] - 1s 810us/step - loss: 0.1401\n",
      "Epoch 15/50\n",
      "1706/1706 [==============================] - 1s 818us/step - loss: 0.1399\n",
      "Epoch 16/50\n",
      "1706/1706 [==============================] - 1s 813us/step - loss: 0.1397\n",
      "Epoch 17/50\n",
      "1706/1706 [==============================] - 1s 822us/step - loss: 0.1396\n",
      "Epoch 18/50\n",
      "1706/1706 [==============================] - 1s 818us/step - loss: 0.1392\n",
      "Epoch 19/50\n",
      "1706/1706 [==============================] - 1s 819us/step - loss: 0.1391\n",
      "Epoch 20/50\n",
      "1706/1706 [==============================] - 1s 822us/step - loss: 0.1390\n",
      "Epoch 21/50\n",
      "1706/1706 [==============================] - 1s 821us/step - loss: 0.1389\n",
      "Epoch 22/50\n",
      "1706/1706 [==============================] - 1s 824us/step - loss: 0.1386\n",
      "Epoch 23/50\n",
      "1706/1706 [==============================] - 1s 811us/step - loss: 0.1385\n",
      "Epoch 24/50\n",
      "1706/1706 [==============================] - 1s 822us/step - loss: 0.1383\n",
      "Epoch 25/50\n",
      "1706/1706 [==============================] - 1s 824us/step - loss: 0.1385\n",
      "Epoch 26/50\n",
      "1706/1706 [==============================] - 1s 824us/step - loss: 0.1384\n",
      "Epoch 27/50\n",
      "1706/1706 [==============================] - 1s 813us/step - loss: 0.1384\n",
      "Epoch 28/50\n",
      "1706/1706 [==============================] - 1s 822us/step - loss: 0.1382\n",
      "Epoch 29/50\n",
      "1706/1706 [==============================] - 1s 818us/step - loss: 0.1383\n",
      "Epoch 30/50\n",
      "1706/1706 [==============================] - 1s 817us/step - loss: 0.1380\n",
      "Epoch 31/50\n",
      "1706/1706 [==============================] - 1s 815us/step - loss: 0.1380\n",
      "Epoch 32/50\n",
      "1706/1706 [==============================] - 1s 836us/step - loss: 0.1380\n",
      "Epoch 33/50\n",
      "1706/1706 [==============================] - 1s 808us/step - loss: 0.1381\n",
      "Epoch 34/50\n",
      "1706/1706 [==============================] - 1s 831us/step - loss: 0.1381\n",
      "Epoch 35/50\n",
      "1706/1706 [==============================] - 1s 824us/step - loss: 0.1378\n",
      "Epoch 36/50\n",
      "1706/1706 [==============================] - 1s 820us/step - loss: 0.1379\n",
      "Epoch 37/50\n",
      "1706/1706 [==============================] - 1s 831us/step - loss: 0.1379\n",
      "Epoch 38/50\n",
      "1706/1706 [==============================] - 1s 822us/step - loss: 0.1380\n",
      "Epoch 39/50\n",
      "1706/1706 [==============================] - 1s 817us/step - loss: 0.1378\n",
      "Epoch 40/50\n",
      "1706/1706 [==============================] - 1s 819us/step - loss: 0.1377\n",
      "Epoch 41/50\n",
      "1706/1706 [==============================] - 1s 827us/step - loss: 0.1377\n",
      "Epoch 42/50\n",
      "1706/1706 [==============================] - 1s 819us/step - loss: 0.1376\n",
      "Epoch 43/50\n",
      "1706/1706 [==============================] - 1s 824us/step - loss: 0.1376\n",
      "Epoch 44/50\n",
      "1706/1706 [==============================] - 1s 830us/step - loss: 0.1377\n",
      "Epoch 45/50\n",
      "1706/1706 [==============================] - 1s 822us/step - loss: 0.1376\n",
      "Epoch 46/50\n",
      "1706/1706 [==============================] - 1s 820us/step - loss: 0.1376\n",
      "Epoch 47/50\n",
      "1706/1706 [==============================] - 1s 819us/step - loss: 0.1374\n",
      "Epoch 48/50\n",
      "1706/1706 [==============================] - 1s 825us/step - loss: 0.1375\n",
      "Epoch 49/50\n",
      "1706/1706 [==============================] - 1s 821us/step - loss: 0.1373\n",
      "Epoch 50/50\n",
      "1706/1706 [==============================] - 1s 823us/step - loss: 0.1373\n",
      "427/427 [==============================] - 0s 697us/step - loss: 0.1761\n",
      "Pérdida en los datos de prueba: 0.1761\n",
      "427/427 [==============================] - 0s 645us/step\n"
     ]
    }
   ],
   "source": [
    "# Definimos el modelo\n",
    "model = tf.keras.models.Sequential([\n",
    "    tf.keras.layers.Dense(32, activation='relu', input_shape=(train_features.shape[1],)),\n",
    "    tf.keras.layers.Dense(16, activation='relu'),\n",
    "    tf.keras.layers.Dense(1)\n",
    "])\n",
    "    # Compilamos el modelo\n",
    "model.compile(optimizer='adam', loss='mse')\n",
    "\n",
    "# Entrenamos el modelo\n",
    "model.fit(train_features, train_labels, epochs=50, batch_size=32)\n",
    "\n",
    "# Evaluamos el modelo en los datos de prueba\n",
    "test_loss = model.evaluate(test_features, test_labels)\n",
    "print(f'Pérdida en los datos de prueba: {test_loss:.4f}')\n",
    "\n",
    "# Hacemos predicciones utilizando los datos de prueba\n",
    "predictions = model.predict(test_features)\n"
   ]
  },
  {
   "cell_type": "code",
   "execution_count": 5,
   "id": "c38297ef",
   "metadata": {},
   "outputs": [],
   "source": [
    "from sklearn.metrics import mean_squared_error, r2_score, mean_absolute_error\n",
    "\n",
    "# Calcular MSE\n",
    "mse = mean_squared_error(test_labels, predictions)\n",
    "\n",
    "# Calcular R^2\n",
    "r2 = r2_score(test_labels, predictions)\n",
    "\n",
    "# Calcular MAE\n",
    "mae = mean_absolute_error(test_labels, predictions)"
   ]
  },
  {
   "cell_type": "code",
   "execution_count": 6,
   "id": "305fee59",
   "metadata": {},
   "outputs": [
    {
     "name": "stdout",
     "output_type": "stream",
     "text": [
      "0.17609509109254143\n",
      "0.012612114026983035\n",
      "0.3438984854254028\n"
     ]
    }
   ],
   "source": [
    "print(mse)\n",
    "print(r2)\n",
    "print(mae)"
   ]
  },
  {
   "cell_type": "code",
   "execution_count": null,
   "id": "eabaa8c5",
   "metadata": {},
   "outputs": [],
   "source": []
  }
 ],
 "metadata": {
  "kernelspec": {
   "display_name": "Python 3 (ipykernel)",
   "language": "python",
   "name": "python3"
  },
  "language_info": {
   "codemirror_mode": {
    "name": "ipython",
    "version": 3
   },
   "file_extension": ".py",
   "mimetype": "text/x-python",
   "name": "python",
   "nbconvert_exporter": "python",
   "pygments_lexer": "ipython3",
   "version": "3.10.5"
  }
 },
 "nbformat": 4,
 "nbformat_minor": 5
}
